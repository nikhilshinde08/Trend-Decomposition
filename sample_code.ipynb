{
 "cells": [
  {
   "cell_type": "code",
   "execution_count": 82,
   "metadata": {},
   "outputs": [],
   "source": [
    "import pandas as pd\n",
    "import numpy as np\n",
    "import matplotlib.pyplot as plt\n",
    "\n",
    "import seaborn as sns\n"
   ]
  },
  {
   "cell_type": "code",
   "execution_count": 83,
   "metadata": {},
   "outputs": [
    {
     "data": {
      "text/html": [
       "<div>\n",
       "<style scoped>\n",
       "    .dataframe tbody tr th:only-of-type {\n",
       "        vertical-align: middle;\n",
       "    }\n",
       "\n",
       "    .dataframe tbody tr th {\n",
       "        vertical-align: top;\n",
       "    }\n",
       "\n",
       "    .dataframe thead th {\n",
       "        text-align: right;\n",
       "    }\n",
       "</style>\n",
       "<table border=\"1\" class=\"dataframe\">\n",
       "  <thead>\n",
       "    <tr style=\"text-align: right;\">\n",
       "      <th></th>\n",
       "      <th>eligible_rtp_date</th>\n",
       "      <th>churned</th>\n",
       "    </tr>\n",
       "  </thead>\n",
       "  <tbody>\n",
       "    <tr>\n",
       "      <th>0</th>\n",
       "      <td>2021-01-11</td>\n",
       "      <td>1</td>\n",
       "    </tr>\n",
       "    <tr>\n",
       "      <th>1</th>\n",
       "      <td>2021-01-11</td>\n",
       "      <td>0</td>\n",
       "    </tr>\n",
       "    <tr>\n",
       "      <th>2</th>\n",
       "      <td>2021-01-11</td>\n",
       "      <td>0</td>\n",
       "    </tr>\n",
       "    <tr>\n",
       "      <th>3</th>\n",
       "      <td>2021-01-11</td>\n",
       "      <td>0</td>\n",
       "    </tr>\n",
       "    <tr>\n",
       "      <th>4</th>\n",
       "      <td>2021-01-12</td>\n",
       "      <td>1</td>\n",
       "    </tr>\n",
       "    <tr>\n",
       "      <th>...</th>\n",
       "      <td>...</td>\n",
       "      <td>...</td>\n",
       "    </tr>\n",
       "    <tr>\n",
       "      <th>4994</th>\n",
       "      <td>2021-01-11</td>\n",
       "      <td>0</td>\n",
       "    </tr>\n",
       "    <tr>\n",
       "      <th>4995</th>\n",
       "      <td>2021-01-11</td>\n",
       "      <td>0</td>\n",
       "    </tr>\n",
       "    <tr>\n",
       "      <th>4996</th>\n",
       "      <td>2021-01-11</td>\n",
       "      <td>0</td>\n",
       "    </tr>\n",
       "    <tr>\n",
       "      <th>4997</th>\n",
       "      <td>2021-01-11</td>\n",
       "      <td>0</td>\n",
       "    </tr>\n",
       "    <tr>\n",
       "      <th>4998</th>\n",
       "      <td>2021-01-11</td>\n",
       "      <td>0</td>\n",
       "    </tr>\n",
       "  </tbody>\n",
       "</table>\n",
       "<p>4999 rows × 2 columns</p>\n",
       "</div>"
      ],
      "text/plain": [
       "     eligible_rtp_date  churned\n",
       "0           2021-01-11        1\n",
       "1           2021-01-11        0\n",
       "2           2021-01-11        0\n",
       "3           2021-01-11        0\n",
       "4           2021-01-12        1\n",
       "...                ...      ...\n",
       "4994        2021-01-11        0\n",
       "4995        2021-01-11        0\n",
       "4996        2021-01-11        0\n",
       "4997        2021-01-11        0\n",
       "4998        2021-01-11        0\n",
       "\n",
       "[4999 rows x 2 columns]"
      ]
     },
     "execution_count": 83,
     "metadata": {},
     "output_type": "execute_result"
    }
   ],
   "source": [
    "df=pd.read_excel(\"trend_sample_data.xlsx\")\n",
    "df.head()\n",
    "df"
   ]
  },
  {
   "cell_type": "code",
   "execution_count": null,
   "metadata": {},
   "outputs": [],
   "source": []
  },
  {
   "cell_type": "code",
   "execution_count": 90,
   "metadata": {},
   "outputs": [],
   "source": [
    "def trend_plot(dataframe,n):\n",
    "    import statsmodels.api as sm #importing statsmodels for decomposition\n",
    "    dataframe[\"churned\"]=dataframe[\"churned\"].astype(\"O\") # change the churn rate to the object format\n",
    "    dataframe=pd.get_dummies(dataframe) # get seperate columns for 0 and 1 that is non churned and churned\n",
    "    dataframe.index=pd.to_datetime(dataframe[\"eligible_rtp_date\"],format=\"%Y--%m--%d\")  #convert the date to index\n",
    "    df1=dataframe.groupby(pd.Grouper(freq=n)).sum()#get the count of churned and non_churned\n",
    "    df1=df1.reset_index() #reset the index because its overlap for next execution\n",
    "    \n",
    "    df2=(dataframe.groupby(pd.Grouper(freq=n)).sum()/dataframe.shape[0])*100\n",
    "    \n",
    "    \n",
    "    \n",
    "    \n",
    "    df2=df2.reset_index()#reset_index for the next execution\n",
    "    dataframe=pd.merge(df1,df2,on=[\"eligible_rtp_date\"]) #merge the count and percentage of the churned\n",
    "    dataframe.rename({\"churned_0_x\":\"non_churned\",\"churned_1_x\":\"churned\",\"churned_0_y\":\"non_churned_percentage\",\"churned_1_y\":\"churned_percentage\"},axis=1,inplace=True)#change the names of the columns\n",
    "    dataframe=dataframe.set_index(\"eligible_rtp_date\") #make the datetime_index\n",
    "    dataframe[\"Total\"]=dataframe[\"non_churned\"]+dataframe[\"churned\"] # get total no of observation for that date\n",
    "    #dataframe[\"Total_percentage\"]=dataframe[\"non_churned_percentage\"]+dataframe[\"churned_percentage\"]\n",
    "    decomposition1 = sm.tsa.seasonal_decompose(dataframe[\"churned_percentage\"],model=\"additive\",period=1)#decompose the data for churn percentage\n",
    "    decomposition2 = sm.tsa.seasonal_decompose(dataframe[\"non_churned_percentage\"],model=\"additive\",period=1)#decompose the data for the non-churn percentage\n",
    "    trend1=decomposition1.trend.plot(xlabel= \"Date\",ylim=[0,100],label=\"Churned_Percentage_trend\")#plot the graph for trend\n",
    "    trend2=decomposition2.trend.plot(ylim=[0,100],label=\"Non_Churned_Percentage_trend\")#plot the graph for the trend\n",
    "    plt.title(\"Percentage Churned\")\n",
    "    plt.legend()\n",
    "\n",
    "    return dataframe.head()\n",
    "    return trend1,trend2\n",
    "    "
   ]
  },
  {
   "cell_type": "code",
   "execution_count": 100,
   "metadata": {},
   "outputs": [
    {
     "name": "stdout",
     "output_type": "stream",
     "text": [
      "100.0\n"
     ]
    },
    {
     "data": {
      "text/html": [
       "<div>\n",
       "<style scoped>\n",
       "    .dataframe tbody tr th:only-of-type {\n",
       "        vertical-align: middle;\n",
       "    }\n",
       "\n",
       "    .dataframe tbody tr th {\n",
       "        vertical-align: top;\n",
       "    }\n",
       "\n",
       "    .dataframe thead th {\n",
       "        text-align: right;\n",
       "    }\n",
       "</style>\n",
       "<table border=\"1\" class=\"dataframe\">\n",
       "  <thead>\n",
       "    <tr style=\"text-align: right;\">\n",
       "      <th></th>\n",
       "      <th>non_churned</th>\n",
       "      <th>churned</th>\n",
       "      <th>non_churned_percentage</th>\n",
       "      <th>churned_percentage</th>\n",
       "      <th>Total</th>\n",
       "      <th>Total_percentage</th>\n",
       "    </tr>\n",
       "    <tr>\n",
       "      <th>eligible_rtp_date</th>\n",
       "      <th></th>\n",
       "      <th></th>\n",
       "      <th></th>\n",
       "      <th></th>\n",
       "      <th></th>\n",
       "      <th></th>\n",
       "    </tr>\n",
       "  </thead>\n",
       "  <tbody>\n",
       "    <tr>\n",
       "      <th>2021-01-11</th>\n",
       "      <td>4914.0</td>\n",
       "      <td>65.0</td>\n",
       "      <td>98.299660</td>\n",
       "      <td>1.300260</td>\n",
       "      <td>4979.0</td>\n",
       "      <td>99.599920</td>\n",
       "    </tr>\n",
       "    <tr>\n",
       "      <th>2021-01-13</th>\n",
       "      <td>9.0</td>\n",
       "      <td>8.0</td>\n",
       "      <td>0.180036</td>\n",
       "      <td>0.160032</td>\n",
       "      <td>17.0</td>\n",
       "      <td>0.340068</td>\n",
       "    </tr>\n",
       "    <tr>\n",
       "      <th>2021-01-15</th>\n",
       "      <td>3.0</td>\n",
       "      <td>0.0</td>\n",
       "      <td>0.060012</td>\n",
       "      <td>0.000000</td>\n",
       "      <td>3.0</td>\n",
       "      <td>0.060012</td>\n",
       "    </tr>\n",
       "  </tbody>\n",
       "</table>\n",
       "</div>"
      ],
      "text/plain": [
       "                   non_churned  churned  non_churned_percentage  \\\n",
       "eligible_rtp_date                                                 \n",
       "2021-01-11              4914.0     65.0               98.299660   \n",
       "2021-01-13                 9.0      8.0                0.180036   \n",
       "2021-01-15                 3.0      0.0                0.060012   \n",
       "\n",
       "                   churned_percentage   Total  Total_percentage  \n",
       "eligible_rtp_date                                                \n",
       "2021-01-11                   1.300260  4979.0         99.599920  \n",
       "2021-01-13                   0.160032    17.0          0.340068  \n",
       "2021-01-15                   0.000000     3.0          0.060012  "
      ]
     },
     "execution_count": 100,
     "metadata": {},
     "output_type": "execute_result"
    },
    {
     "data": {
      "image/png": "[encoded data removed]",
      "text/plain": [
       "<Figure size 432x288 with 1 Axes>"
      ]
     },
     "metadata": {
      "needs_background": "light"
     },
     "output_type": "display_data"
    }
   ],
   "source": [
    "df1=trend_plot(df,\"2D\")\n",
    "\n",
    "print(df1[\"Total_percentage\"].sum())\n",
    "df1"
   ]
  },
  {
   "cell_type": "code",
   "execution_count": null,
   "metadata": {},
   "outputs": [],
   "source": []
  },
  {
   "cell_type": "code",
   "execution_count": 143,
   "metadata": {},
   "outputs": [],
   "source": [
    "def trend_plot(dataframe,n):\n",
    "    import statsmodels.api as sm #importing statsmodels for decomposition\n",
    "    dataframe[\"churned\"]=dataframe[\"churned\"].astype(\"O\") # change the churn rate to the object format\n",
    "    dataframe=pd.get_dummies(dataframe) # get seperate columns for 0 and 1 that is non churned and churned\n",
    "    dataframe.index=pd.to_datetime(dataframe[\"eligible_rtp_date\"],format=\"%Y--%m--%d\")  #convert the date to index\n",
    "    dataframe1=dataframe.groupby(pd.Grouper(freq=n)).sum()#get the count of churned and non_churned\n",
    "    dataframe1=dataframe1.reset_index() #reset the index because its overlap for next execution\n",
    "    dataframe1=dataframe1.set_index(\"eligible_rtp_date\") #make the datetime_index\n",
    "    dataframe1.rename({\"churned_0\":\"non_churned\",\"churned_1\":\"churned\"},axis=1,inplace=True)#change the names of the columns\n",
    "    dataframe1[\"total\"]=dataframe1[\"non_churned\"]+dataframe1[\"churned\"]\n",
    "    dataframe1[\"non_churned_percentage\"]=(dataframe1[\"non_churned\"]/dataframe1[\"total\"])*100\n",
    "    dataframe1[\"churned_percentage\"]=(dataframe1[\"churned\"]/dataframe1[\"total\"])*100\n",
    "    \n",
    "    decomposition1 = sm.tsa.seasonal_decompose(dataframe1[\"churned_percentage\"],model=\"additive\",period=1)#decompose the data for churn percentage\n",
    "    decomposition2 = sm.tsa.seasonal_decompose(dataframe1[\"non_churned_percentage\"],model=\"additive\",period=1)#decompose the data for the non-churn percentage\n",
    "    trend1=decomposition1.trend.plot(xlabel= \"Date\",ylim=[0,100],label=\"Churned_Percentage_trend\")#plot the graph for trend\n",
    "    trend2=decomposition2.trend.plot(ylim=[0,100],label=\"Non_Churned_Percentage_trend\")#plot the graph for the trend\n",
    "    plt.title(\"Percentage Churned\")\n",
    "    plt.legend()\n",
    "    \n",
    "    return dataframe1.head()\n",
    "    "
   ]
  },
  {
   "cell_type": "code",
   "execution_count": 151,
   "metadata": {},
   "outputs": [
    {
     "data": {
      "text/html": [
       "<div>\n",
       "<style scoped>\n",
       "    .dataframe tbody tr th:only-of-type {\n",
       "        vertical-align: middle;\n",
       "    }\n",
       "\n",
       "    .dataframe tbody tr th {\n",
       "        vertical-align: top;\n",
       "    }\n",
       "\n",
       "    .dataframe thead th {\n",
       "        text-align: right;\n",
       "    }\n",
       "</style>\n",
       "<table border=\"1\" class=\"dataframe\">\n",
       "  <thead>\n",
       "    <tr style=\"text-align: right;\">\n",
       "      <th></th>\n",
       "      <th>non_churned</th>\n",
       "      <th>churned</th>\n",
       "      <th>total</th>\n",
       "      <th>non_churned_percentage</th>\n",
       "      <th>churned_percentage</th>\n",
       "    </tr>\n",
       "    <tr>\n",
       "      <th>eligible_rtp_date</th>\n",
       "      <th></th>\n",
       "      <th></th>\n",
       "      <th></th>\n",
       "      <th></th>\n",
       "      <th></th>\n",
       "    </tr>\n",
       "  </thead>\n",
       "  <tbody>\n",
       "    <tr>\n",
       "      <th>2021-01-11</th>\n",
       "      <td>4907.0</td>\n",
       "      <td>61.0</td>\n",
       "      <td>4968.0</td>\n",
       "      <td>98.772142</td>\n",
       "      <td>1.227858</td>\n",
       "    </tr>\n",
       "    <tr>\n",
       "      <th>2021-01-12</th>\n",
       "      <td>7.0</td>\n",
       "      <td>4.0</td>\n",
       "      <td>11.0</td>\n",
       "      <td>63.636364</td>\n",
       "      <td>36.363636</td>\n",
       "    </tr>\n",
       "    <tr>\n",
       "      <th>2021-01-13</th>\n",
       "      <td>7.0</td>\n",
       "      <td>8.0</td>\n",
       "      <td>15.0</td>\n",
       "      <td>46.666667</td>\n",
       "      <td>53.333333</td>\n",
       "    </tr>\n",
       "    <tr>\n",
       "      <th>2021-01-14</th>\n",
       "      <td>2.0</td>\n",
       "      <td>0.0</td>\n",
       "      <td>2.0</td>\n",
       "      <td>100.000000</td>\n",
       "      <td>0.000000</td>\n",
       "    </tr>\n",
       "    <tr>\n",
       "      <th>2021-01-15</th>\n",
       "      <td>3.0</td>\n",
       "      <td>0.0</td>\n",
       "      <td>3.0</td>\n",
       "      <td>100.000000</td>\n",
       "      <td>0.000000</td>\n",
       "    </tr>\n",
       "  </tbody>\n",
       "</table>\n",
       "</div>"
      ],
      "text/plain": [
       "                   non_churned  churned   total  non_churned_percentage  \\\n",
       "eligible_rtp_date                                                         \n",
       "2021-01-11              4907.0     61.0  4968.0               98.772142   \n",
       "2021-01-12                 7.0      4.0    11.0               63.636364   \n",
       "2021-01-13                 7.0      8.0    15.0               46.666667   \n",
       "2021-01-14                 2.0      0.0     2.0              100.000000   \n",
       "2021-01-15                 3.0      0.0     3.0              100.000000   \n",
       "\n",
       "                   churned_percentage  \n",
       "eligible_rtp_date                      \n",
       "2021-01-11                   1.227858  \n",
       "2021-01-12                  36.363636  \n",
       "2021-01-13                  53.333333  \n",
       "2021-01-14                   0.000000  \n",
       "2021-01-15                   0.000000  "
      ]
     },
     "execution_count": 151,
     "metadata": {},
     "output_type": "execute_result"
    },
    {
     "data": {
      "image/png": "[encoded data removed]",
      "text/plain": [
       "<Figure size 432x288 with 1 Axes>"
      ]
     },
     "metadata": {
      "needs_background": "light"
     },
     "output_type": "display_data"
    }
   ],
   "source": [
    "trend_plot(df,\"1D\")"
   ]
  },
  {
   "cell_type": "code",
   "execution_count": null,
   "metadata": {},
   "outputs": [],
   "source": []
  },
  {
   "cell_type": "code",
   "execution_count": null,
   "metadata": {},
   "outputs": [],
   "source": []
  },
  {
   "cell_type": "code",
   "execution_count": null,
   "metadata": {},
   "outputs": [],
   "source": []
  },
  {
   "cell_type": "code",
   "execution_count": null,
   "metadata": {},
   "outputs": [],
   "source": []
  },
  {
   "cell_type": "code",
   "execution_count": null,
   "metadata": {},
   "outputs": [],
   "source": []
  },
  {
   "cell_type": "code",
   "execution_count": null,
   "metadata": {},
   "outputs": [],
   "source": []
  },
  {
   "cell_type": "code",
   "execution_count": null,
   "metadata": {},
   "outputs": [],
   "source": []
  },
  {
   "cell_type": "code",
   "execution_count": null,
   "metadata": {},
   "outputs": [],
   "source": []
  },
  {
   "cell_type": "code",
   "execution_count": null,
   "metadata": {},
   "outputs": [],
   "source": []
  },
  {
   "cell_type": "code",
   "execution_count": null,
   "metadata": {},
   "outputs": [],
   "source": []
  }
 ],
 "metadata": {
  "kernelspec": {
   "display_name": "Python 3",
   "language": "python",
   "name": "python3"
  },
  "language_info": {
   "codemirror_mode": {
    "name": "ipython",
    "version": 3
   },
   "file_extension": ".py",
   "mimetype": "text/x-python",
   "name": "python",
   "nbconvert_exporter": "python",
   "pygments_lexer": "ipython3",
   "version": "3.8.5"
  }
 },
 "nbformat": 4,
 "nbformat_minor": 4
}
